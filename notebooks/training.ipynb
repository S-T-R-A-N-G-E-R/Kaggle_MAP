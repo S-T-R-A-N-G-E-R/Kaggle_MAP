{
 "cells": [
  {
   "cell_type": "code",
   "execution_count": 1,
   "id": "01b88760",
   "metadata": {},
   "outputs": [],
   "source": [
    "import pandas as pd\n",
    "import numpy as np\n",
    "import matplotlib.pyplot as plt\n",
    "import seaborn as sns"
   ]
  },
  {
   "cell_type": "code",
   "execution_count": 2,
   "id": "b0654e0a",
   "metadata": {},
   "outputs": [
    {
     "name": "stdout",
     "output_type": "stream",
     "text": [
      "zsh:1: command not found: nvidia-smi\n"
     ]
    }
   ],
   "source": [
    "!nvidia-smi"
   ]
  },
  {
   "cell_type": "code",
   "execution_count": 3,
   "id": "f7bae56d",
   "metadata": {},
   "outputs": [
    {
     "ename": "ModuleNotFoundError",
     "evalue": "No module named 'google.colab'",
     "output_type": "error",
     "traceback": [
      "\u001b[31m---------------------------------------------------------------------------\u001b[39m",
      "\u001b[31mModuleNotFoundError\u001b[39m                       Traceback (most recent call last)",
      "\u001b[36mCell\u001b[39m\u001b[36m \u001b[39m\u001b[32mIn[3]\u001b[39m\u001b[32m, line 1\u001b[39m\n\u001b[32m----> \u001b[39m\u001b[32m1\u001b[39m \u001b[38;5;28;01mfrom\u001b[39;00m\u001b[38;5;250m \u001b[39m\u001b[34;01mgoogle\u001b[39;00m\u001b[34;01m.\u001b[39;00m\u001b[34;01mcolab\u001b[39;00m\u001b[38;5;250m \u001b[39m\u001b[38;5;28;01mimport\u001b[39;00m drive\n\u001b[32m      2\u001b[39m drive.mount(\u001b[33m'\u001b[39m\u001b[33m/content/drive\u001b[39m\u001b[33m'\u001b[39m)\n",
      "\u001b[31mModuleNotFoundError\u001b[39m: No module named 'google.colab'"
     ]
    }
   ],
   "source": [
    "from google.colab import drive\n",
    "drive.mount('/content/drive')\n"
   ]
  },
  {
   "cell_type": "code",
   "execution_count": 2,
   "id": "56d4d2e2",
   "metadata": {},
   "outputs": [
    {
     "ename": "FileNotFoundError",
     "evalue": "[Errno 2] No such file or directory: '../Datasets/train.csv'",
     "output_type": "error",
     "traceback": [
      "\u001b[31m---------------------------------------------------------------------------\u001b[39m",
      "\u001b[31mFileNotFoundError\u001b[39m                         Traceback (most recent call last)",
      "\u001b[36mCell\u001b[39m\u001b[36m \u001b[39m\u001b[32mIn[2]\u001b[39m\u001b[32m, line 1\u001b[39m\n\u001b[32m----> \u001b[39m\u001b[32m1\u001b[39m train = pd.read_csv(\u001b[33m'\u001b[39m\u001b[33m../Datasets/train.csv\u001b[39m\u001b[33m'\u001b[39m)\n\u001b[32m      2\u001b[39m test = pd.read_csv(\u001b[33m'\u001b[39m\u001b[33m../Datasets/test.csv\u001b[39m\u001b[33m'\u001b[39m)\n",
      "\u001b[36mFile \u001b[39m\u001b[32m/opt/anaconda3/envs/Kaggle_MAP/lib/python3.12/site-packages/pandas/io/parsers/readers.py:1026\u001b[39m, in \u001b[36mread_csv\u001b[39m\u001b[34m(filepath_or_buffer, sep, delimiter, header, names, index_col, usecols, dtype, engine, converters, true_values, false_values, skipinitialspace, skiprows, skipfooter, nrows, na_values, keep_default_na, na_filter, verbose, skip_blank_lines, parse_dates, infer_datetime_format, keep_date_col, date_parser, date_format, dayfirst, cache_dates, iterator, chunksize, compression, thousands, decimal, lineterminator, quotechar, quoting, doublequote, escapechar, comment, encoding, encoding_errors, dialect, on_bad_lines, delim_whitespace, low_memory, memory_map, float_precision, storage_options, dtype_backend)\u001b[39m\n\u001b[32m   1013\u001b[39m kwds_defaults = _refine_defaults_read(\n\u001b[32m   1014\u001b[39m     dialect,\n\u001b[32m   1015\u001b[39m     delimiter,\n\u001b[32m   (...)\u001b[39m\u001b[32m   1022\u001b[39m     dtype_backend=dtype_backend,\n\u001b[32m   1023\u001b[39m )\n\u001b[32m   1024\u001b[39m kwds.update(kwds_defaults)\n\u001b[32m-> \u001b[39m\u001b[32m1026\u001b[39m \u001b[38;5;28;01mreturn\u001b[39;00m _read(filepath_or_buffer, kwds)\n",
      "\u001b[36mFile \u001b[39m\u001b[32m/opt/anaconda3/envs/Kaggle_MAP/lib/python3.12/site-packages/pandas/io/parsers/readers.py:620\u001b[39m, in \u001b[36m_read\u001b[39m\u001b[34m(filepath_or_buffer, kwds)\u001b[39m\n\u001b[32m    617\u001b[39m _validate_names(kwds.get(\u001b[33m\"\u001b[39m\u001b[33mnames\u001b[39m\u001b[33m\"\u001b[39m, \u001b[38;5;28;01mNone\u001b[39;00m))\n\u001b[32m    619\u001b[39m \u001b[38;5;66;03m# Create the parser.\u001b[39;00m\n\u001b[32m--> \u001b[39m\u001b[32m620\u001b[39m parser = TextFileReader(filepath_or_buffer, **kwds)\n\u001b[32m    622\u001b[39m \u001b[38;5;28;01mif\u001b[39;00m chunksize \u001b[38;5;129;01mor\u001b[39;00m iterator:\n\u001b[32m    623\u001b[39m     \u001b[38;5;28;01mreturn\u001b[39;00m parser\n",
      "\u001b[36mFile \u001b[39m\u001b[32m/opt/anaconda3/envs/Kaggle_MAP/lib/python3.12/site-packages/pandas/io/parsers/readers.py:1620\u001b[39m, in \u001b[36mTextFileReader.__init__\u001b[39m\u001b[34m(self, f, engine, **kwds)\u001b[39m\n\u001b[32m   1617\u001b[39m     \u001b[38;5;28mself\u001b[39m.options[\u001b[33m\"\u001b[39m\u001b[33mhas_index_names\u001b[39m\u001b[33m\"\u001b[39m] = kwds[\u001b[33m\"\u001b[39m\u001b[33mhas_index_names\u001b[39m\u001b[33m\"\u001b[39m]\n\u001b[32m   1619\u001b[39m \u001b[38;5;28mself\u001b[39m.handles: IOHandles | \u001b[38;5;28;01mNone\u001b[39;00m = \u001b[38;5;28;01mNone\u001b[39;00m\n\u001b[32m-> \u001b[39m\u001b[32m1620\u001b[39m \u001b[38;5;28mself\u001b[39m._engine = \u001b[38;5;28mself\u001b[39m._make_engine(f, \u001b[38;5;28mself\u001b[39m.engine)\n",
      "\u001b[36mFile \u001b[39m\u001b[32m/opt/anaconda3/envs/Kaggle_MAP/lib/python3.12/site-packages/pandas/io/parsers/readers.py:1880\u001b[39m, in \u001b[36mTextFileReader._make_engine\u001b[39m\u001b[34m(self, f, engine)\u001b[39m\n\u001b[32m   1878\u001b[39m     \u001b[38;5;28;01mif\u001b[39;00m \u001b[33m\"\u001b[39m\u001b[33mb\u001b[39m\u001b[33m\"\u001b[39m \u001b[38;5;129;01mnot\u001b[39;00m \u001b[38;5;129;01min\u001b[39;00m mode:\n\u001b[32m   1879\u001b[39m         mode += \u001b[33m\"\u001b[39m\u001b[33mb\u001b[39m\u001b[33m\"\u001b[39m\n\u001b[32m-> \u001b[39m\u001b[32m1880\u001b[39m \u001b[38;5;28mself\u001b[39m.handles = get_handle(\n\u001b[32m   1881\u001b[39m     f,\n\u001b[32m   1882\u001b[39m     mode,\n\u001b[32m   1883\u001b[39m     encoding=\u001b[38;5;28mself\u001b[39m.options.get(\u001b[33m\"\u001b[39m\u001b[33mencoding\u001b[39m\u001b[33m\"\u001b[39m, \u001b[38;5;28;01mNone\u001b[39;00m),\n\u001b[32m   1884\u001b[39m     compression=\u001b[38;5;28mself\u001b[39m.options.get(\u001b[33m\"\u001b[39m\u001b[33mcompression\u001b[39m\u001b[33m\"\u001b[39m, \u001b[38;5;28;01mNone\u001b[39;00m),\n\u001b[32m   1885\u001b[39m     memory_map=\u001b[38;5;28mself\u001b[39m.options.get(\u001b[33m\"\u001b[39m\u001b[33mmemory_map\u001b[39m\u001b[33m\"\u001b[39m, \u001b[38;5;28;01mFalse\u001b[39;00m),\n\u001b[32m   1886\u001b[39m     is_text=is_text,\n\u001b[32m   1887\u001b[39m     errors=\u001b[38;5;28mself\u001b[39m.options.get(\u001b[33m\"\u001b[39m\u001b[33mencoding_errors\u001b[39m\u001b[33m\"\u001b[39m, \u001b[33m\"\u001b[39m\u001b[33mstrict\u001b[39m\u001b[33m\"\u001b[39m),\n\u001b[32m   1888\u001b[39m     storage_options=\u001b[38;5;28mself\u001b[39m.options.get(\u001b[33m\"\u001b[39m\u001b[33mstorage_options\u001b[39m\u001b[33m\"\u001b[39m, \u001b[38;5;28;01mNone\u001b[39;00m),\n\u001b[32m   1889\u001b[39m )\n\u001b[32m   1890\u001b[39m \u001b[38;5;28;01massert\u001b[39;00m \u001b[38;5;28mself\u001b[39m.handles \u001b[38;5;129;01mis\u001b[39;00m \u001b[38;5;129;01mnot\u001b[39;00m \u001b[38;5;28;01mNone\u001b[39;00m\n\u001b[32m   1891\u001b[39m f = \u001b[38;5;28mself\u001b[39m.handles.handle\n",
      "\u001b[36mFile \u001b[39m\u001b[32m/opt/anaconda3/envs/Kaggle_MAP/lib/python3.12/site-packages/pandas/io/common.py:873\u001b[39m, in \u001b[36mget_handle\u001b[39m\u001b[34m(path_or_buf, mode, encoding, compression, memory_map, is_text, errors, storage_options)\u001b[39m\n\u001b[32m    868\u001b[39m \u001b[38;5;28;01melif\u001b[39;00m \u001b[38;5;28misinstance\u001b[39m(handle, \u001b[38;5;28mstr\u001b[39m):\n\u001b[32m    869\u001b[39m     \u001b[38;5;66;03m# Check whether the filename is to be opened in binary mode.\u001b[39;00m\n\u001b[32m    870\u001b[39m     \u001b[38;5;66;03m# Binary mode does not support 'encoding' and 'newline'.\u001b[39;00m\n\u001b[32m    871\u001b[39m     \u001b[38;5;28;01mif\u001b[39;00m ioargs.encoding \u001b[38;5;129;01mand\u001b[39;00m \u001b[33m\"\u001b[39m\u001b[33mb\u001b[39m\u001b[33m\"\u001b[39m \u001b[38;5;129;01mnot\u001b[39;00m \u001b[38;5;129;01min\u001b[39;00m ioargs.mode:\n\u001b[32m    872\u001b[39m         \u001b[38;5;66;03m# Encoding\u001b[39;00m\n\u001b[32m--> \u001b[39m\u001b[32m873\u001b[39m         handle = \u001b[38;5;28mopen\u001b[39m(\n\u001b[32m    874\u001b[39m             handle,\n\u001b[32m    875\u001b[39m             ioargs.mode,\n\u001b[32m    876\u001b[39m             encoding=ioargs.encoding,\n\u001b[32m    877\u001b[39m             errors=errors,\n\u001b[32m    878\u001b[39m             newline=\u001b[33m\"\u001b[39m\u001b[33m\"\u001b[39m,\n\u001b[32m    879\u001b[39m         )\n\u001b[32m    880\u001b[39m     \u001b[38;5;28;01melse\u001b[39;00m:\n\u001b[32m    881\u001b[39m         \u001b[38;5;66;03m# Binary mode\u001b[39;00m\n\u001b[32m    882\u001b[39m         handle = \u001b[38;5;28mopen\u001b[39m(handle, ioargs.mode)\n",
      "\u001b[31mFileNotFoundError\u001b[39m: [Errno 2] No such file or directory: '../Datasets/train.csv'"
     ]
    }
   ],
   "source": [
    "train = pd.read_csv('../Datasets/train.csv')\n",
    "test = pd.read_csv('../Datasets/test.csv')"
   ]
  },
  {
   "cell_type": "code",
   "execution_count": null,
   "id": "db8ca5db",
   "metadata": {},
   "outputs": [
    {
     "data": {
      "text/html": [
       "<div>\n",
       "<style scoped>\n",
       "    .dataframe tbody tr th:only-of-type {\n",
       "        vertical-align: middle;\n",
       "    }\n",
       "\n",
       "    .dataframe tbody tr th {\n",
       "        vertical-align: top;\n",
       "    }\n",
       "\n",
       "    .dataframe thead th {\n",
       "        text-align: right;\n",
       "    }\n",
       "</style>\n",
       "<table border=\"1\" class=\"dataframe\">\n",
       "  <thead>\n",
       "    <tr style=\"text-align: right;\">\n",
       "      <th></th>\n",
       "      <th>row_id</th>\n",
       "      <th>QuestionId</th>\n",
       "      <th>QuestionText</th>\n",
       "      <th>MC_Answer</th>\n",
       "      <th>StudentExplanation</th>\n",
       "      <th>Category</th>\n",
       "      <th>Misconception</th>\n",
       "    </tr>\n",
       "  </thead>\n",
       "  <tbody>\n",
       "    <tr>\n",
       "      <th>0</th>\n",
       "      <td>0</td>\n",
       "      <td>31772</td>\n",
       "      <td>What fraction of the shape is not shaded? Give...</td>\n",
       "      <td>\\( \\frac{1}{3} \\)</td>\n",
       "      <td>0ne third is equal to tree nineth</td>\n",
       "      <td>True_Correct</td>\n",
       "      <td>NaN</td>\n",
       "    </tr>\n",
       "    <tr>\n",
       "      <th>1</th>\n",
       "      <td>1</td>\n",
       "      <td>31772</td>\n",
       "      <td>What fraction of the shape is not shaded? Give...</td>\n",
       "      <td>\\( \\frac{1}{3} \\)</td>\n",
       "      <td>1 / 3 because 6 over 9 is 2 thirds and 1 third...</td>\n",
       "      <td>True_Correct</td>\n",
       "      <td>NaN</td>\n",
       "    </tr>\n",
       "    <tr>\n",
       "      <th>2</th>\n",
       "      <td>2</td>\n",
       "      <td>31772</td>\n",
       "      <td>What fraction of the shape is not shaded? Give...</td>\n",
       "      <td>\\( \\frac{1}{3} \\)</td>\n",
       "      <td>1 3rd is half of 3 6th, so it is simplee to un...</td>\n",
       "      <td>True_Neither</td>\n",
       "      <td>NaN</td>\n",
       "    </tr>\n",
       "    <tr>\n",
       "      <th>3</th>\n",
       "      <td>3</td>\n",
       "      <td>31772</td>\n",
       "      <td>What fraction of the shape is not shaded? Give...</td>\n",
       "      <td>\\( \\frac{1}{3} \\)</td>\n",
       "      <td>1 goes into everything and 3 goes into nine</td>\n",
       "      <td>True_Neither</td>\n",
       "      <td>NaN</td>\n",
       "    </tr>\n",
       "    <tr>\n",
       "      <th>4</th>\n",
       "      <td>4</td>\n",
       "      <td>31772</td>\n",
       "      <td>What fraction of the shape is not shaded? Give...</td>\n",
       "      <td>\\( \\frac{1}{3} \\)</td>\n",
       "      <td>1 out of every 3 isn't coloured</td>\n",
       "      <td>True_Correct</td>\n",
       "      <td>NaN</td>\n",
       "    </tr>\n",
       "  </tbody>\n",
       "</table>\n",
       "</div>"
      ],
      "text/plain": [
       "   row_id  QuestionId                                       QuestionText  \\\n",
       "0       0       31772  What fraction of the shape is not shaded? Give...   \n",
       "1       1       31772  What fraction of the shape is not shaded? Give...   \n",
       "2       2       31772  What fraction of the shape is not shaded? Give...   \n",
       "3       3       31772  What fraction of the shape is not shaded? Give...   \n",
       "4       4       31772  What fraction of the shape is not shaded? Give...   \n",
       "\n",
       "           MC_Answer                                 StudentExplanation  \\\n",
       "0  \\( \\frac{1}{3} \\)                  0ne third is equal to tree nineth   \n",
       "1  \\( \\frac{1}{3} \\)  1 / 3 because 6 over 9 is 2 thirds and 1 third...   \n",
       "2  \\( \\frac{1}{3} \\)  1 3rd is half of 3 6th, so it is simplee to un...   \n",
       "3  \\( \\frac{1}{3} \\)        1 goes into everything and 3 goes into nine   \n",
       "4  \\( \\frac{1}{3} \\)                    1 out of every 3 isn't coloured   \n",
       "\n",
       "       Category Misconception  \n",
       "0  True_Correct           NaN  \n",
       "1  True_Correct           NaN  \n",
       "2  True_Neither           NaN  \n",
       "3  True_Neither           NaN  \n",
       "4  True_Correct           NaN  "
      ]
     },
     "execution_count": 3,
     "metadata": {},
     "output_type": "execute_result"
    }
   ],
   "source": [
    "train.head()"
   ]
  },
  {
   "cell_type": "code",
   "execution_count": null,
   "id": "e0d0a256",
   "metadata": {},
   "outputs": [
    {
     "data": {
      "text/html": [
       "<div>\n",
       "<style scoped>\n",
       "    .dataframe tbody tr th:only-of-type {\n",
       "        vertical-align: middle;\n",
       "    }\n",
       "\n",
       "    .dataframe tbody tr th {\n",
       "        vertical-align: top;\n",
       "    }\n",
       "\n",
       "    .dataframe thead th {\n",
       "        text-align: right;\n",
       "    }\n",
       "</style>\n",
       "<table border=\"1\" class=\"dataframe\">\n",
       "  <thead>\n",
       "    <tr style=\"text-align: right;\">\n",
       "      <th></th>\n",
       "      <th>row_id</th>\n",
       "      <th>QuestionId</th>\n",
       "      <th>QuestionText</th>\n",
       "      <th>MC_Answer</th>\n",
       "      <th>StudentExplanation</th>\n",
       "      <th>Category</th>\n",
       "      <th>Misconception</th>\n",
       "    </tr>\n",
       "  </thead>\n",
       "  <tbody>\n",
       "    <tr>\n",
       "      <th>36691</th>\n",
       "      <td>36691</td>\n",
       "      <td>109465</td>\n",
       "      <td>The probability of an event occurring is \\( 0....</td>\n",
       "      <td>Unlikely</td>\n",
       "      <td>very unlikely.</td>\n",
       "      <td>False_Neither</td>\n",
       "      <td>NaN</td>\n",
       "    </tr>\n",
       "    <tr>\n",
       "      <th>36692</th>\n",
       "      <td>36692</td>\n",
       "      <td>109465</td>\n",
       "      <td>The probability of an event occurring is \\( 0....</td>\n",
       "      <td>Unlikely</td>\n",
       "      <td>yea pretty much unlikely from what it seems.</td>\n",
       "      <td>False_Neither</td>\n",
       "      <td>NaN</td>\n",
       "    </tr>\n",
       "    <tr>\n",
       "      <th>36693</th>\n",
       "      <td>36693</td>\n",
       "      <td>109465</td>\n",
       "      <td>The probability of an event occurring is \\( 0....</td>\n",
       "      <td>Unlikely</td>\n",
       "      <td>yeah pretty unlikelyy from what it seems.</td>\n",
       "      <td>False_Neither</td>\n",
       "      <td>NaN</td>\n",
       "    </tr>\n",
       "    <tr>\n",
       "      <th>36694</th>\n",
       "      <td>36694</td>\n",
       "      <td>109465</td>\n",
       "      <td>The probability of an event occurring is \\( 0....</td>\n",
       "      <td>Unlikely</td>\n",
       "      <td>you have 9 other numbers to get.</td>\n",
       "      <td>False_Neither</td>\n",
       "      <td>NaN</td>\n",
       "    </tr>\n",
       "    <tr>\n",
       "      <th>36695</th>\n",
       "      <td>36695</td>\n",
       "      <td>109465</td>\n",
       "      <td>The probability of an event occurring is \\( 0....</td>\n",
       "      <td>Unlikely</td>\n",
       "      <td>you have a chanve but it is not i think this b...</td>\n",
       "      <td>False_Neither</td>\n",
       "      <td>NaN</td>\n",
       "    </tr>\n",
       "  </tbody>\n",
       "</table>\n",
       "</div>"
      ],
      "text/plain": [
       "       row_id  QuestionId                                       QuestionText  \\\n",
       "36691   36691      109465  The probability of an event occurring is \\( 0....   \n",
       "36692   36692      109465  The probability of an event occurring is \\( 0....   \n",
       "36693   36693      109465  The probability of an event occurring is \\( 0....   \n",
       "36694   36694      109465  The probability of an event occurring is \\( 0....   \n",
       "36695   36695      109465  The probability of an event occurring is \\( 0....   \n",
       "\n",
       "      MC_Answer                                 StudentExplanation  \\\n",
       "36691  Unlikely                                     very unlikely.   \n",
       "36692  Unlikely       yea pretty much unlikely from what it seems.   \n",
       "36693  Unlikely          yeah pretty unlikelyy from what it seems.   \n",
       "36694  Unlikely                   you have 9 other numbers to get.   \n",
       "36695  Unlikely  you have a chanve but it is not i think this b...   \n",
       "\n",
       "            Category Misconception  \n",
       "36691  False_Neither           NaN  \n",
       "36692  False_Neither           NaN  \n",
       "36693  False_Neither           NaN  \n",
       "36694  False_Neither           NaN  \n",
       "36695  False_Neither           NaN  "
      ]
     },
     "execution_count": 4,
     "metadata": {},
     "output_type": "execute_result"
    }
   ],
   "source": [
    "train.tail()"
   ]
  },
  {
   "cell_type": "code",
   "execution_count": null,
   "id": "b129f696",
   "metadata": {},
   "outputs": [
    {
     "data": {
      "text/plain": [
       "row_id                    0\n",
       "QuestionId                0\n",
       "QuestionText              0\n",
       "MC_Answer                 0\n",
       "StudentExplanation        0\n",
       "Category                  0\n",
       "Misconception         26836\n",
       "dtype: int64"
      ]
     },
     "execution_count": 5,
     "metadata": {},
     "output_type": "execute_result"
    }
   ],
   "source": [
    "train.isnull().sum()"
   ]
  },
  {
   "cell_type": "code",
   "execution_count": null,
   "id": "5b19ba40",
   "metadata": {},
   "outputs": [
    {
     "data": {
      "text/plain": [
       "(36696, 7)"
      ]
     },
     "execution_count": 6,
     "metadata": {},
     "output_type": "execute_result"
    }
   ],
   "source": [
    "train.shape"
   ]
  },
  {
   "cell_type": "code",
   "execution_count": null,
   "id": "8730b8c5",
   "metadata": {},
   "outputs": [
    {
     "data": {
      "text/plain": [
       "Category\n",
       "True_Correct           14802\n",
       "False_Misconception     9457\n",
       "False_Neither           6542\n",
       "True_Neither            5265\n",
       "True_Misconception       403\n",
       "False_Correct            227\n",
       "Name: count, dtype: int64"
      ]
     },
     "execution_count": 7,
     "metadata": {},
     "output_type": "execute_result"
    }
   ],
   "source": [
    "train['Category'].value_counts()\n"
   ]
  },
  {
   "cell_type": "code",
   "execution_count": null,
   "id": "5e22db09",
   "metadata": {},
   "outputs": [
    {
     "data": {
      "text/plain": [
       "Misconception\n",
       "Incomplete                                1454\n",
       "Additive                                   929\n",
       "Duplication                                704\n",
       "Subtraction                                620\n",
       "Positive                                   566\n",
       "Wrong_term                                 558\n",
       "Irrelevant                                 497\n",
       "Wrong_fraction                             418\n",
       "Inversion                                  414\n",
       "Mult                                       353\n",
       "Denominator-only_change                    336\n",
       "Whole_numbers_larger                       329\n",
       "Adding_across                              307\n",
       "WNB                                        299\n",
       "Tacking                                    290\n",
       "Unknowable                                 282\n",
       "Wrong_Fraction                             273\n",
       "SwapDividend                               206\n",
       "Scale                                      179\n",
       "Not_variable                               154\n",
       "Firstterm                                  107\n",
       "Adding_terms                                97\n",
       "Multiplying_by_4                            96\n",
       "FlipChange                                  78\n",
       "Division                                    63\n",
       "Definition                                  54\n",
       "Interior                                    50\n",
       "Longer_is_bigger                            24\n",
       "Ignores_zeroes                              23\n",
       "Base_rate                                   23\n",
       "Shorter_is_bigger                           23\n",
       "Inverse_operation                           21\n",
       "Certainty                                   18\n",
       "Incorrect_equivalent_fraction_addition       9\n",
       "Wrong_Operation                              6\n",
       "Name: count, dtype: int64"
      ]
     },
     "execution_count": 8,
     "metadata": {},
     "output_type": "execute_result"
    }
   ],
   "source": [
    "train['Misconception'].value_counts()\n"
   ]
  },
  {
   "cell_type": "code",
   "execution_count": null,
   "id": "3557fb9b",
   "metadata": {},
   "outputs": [
    {
     "data": {
      "text/html": [
       "<div>\n",
       "<style scoped>\n",
       "    .dataframe tbody tr th:only-of-type {\n",
       "        vertical-align: middle;\n",
       "    }\n",
       "\n",
       "    .dataframe tbody tr th {\n",
       "        vertical-align: top;\n",
       "    }\n",
       "\n",
       "    .dataframe thead th {\n",
       "        text-align: right;\n",
       "    }\n",
       "</style>\n",
       "<table border=\"1\" class=\"dataframe\">\n",
       "  <thead>\n",
       "    <tr style=\"text-align: right;\">\n",
       "      <th></th>\n",
       "      <th>row_id</th>\n",
       "      <th>QuestionId</th>\n",
       "      <th>QuestionText</th>\n",
       "      <th>MC_Answer</th>\n",
       "      <th>StudentExplanation</th>\n",
       "      <th>Category</th>\n",
       "      <th>Misconception</th>\n",
       "    </tr>\n",
       "  </thead>\n",
       "  <tbody>\n",
       "    <tr>\n",
       "      <th>107</th>\n",
       "      <td>107</td>\n",
       "      <td>31772</td>\n",
       "      <td>What fraction of the shape is not shaded? Give...</td>\n",
       "      <td>\\( \\frac{1}{3} \\)</td>\n",
       "      <td>3 out of 9 parts aren't shaded.</td>\n",
       "      <td>True_Misconception</td>\n",
       "      <td>Incomplete</td>\n",
       "    </tr>\n",
       "    <tr>\n",
       "      <th>120</th>\n",
       "      <td>120</td>\n",
       "      <td>31772</td>\n",
       "      <td>What fraction of the shape is not shaded? Give...</td>\n",
       "      <td>\\( \\frac{1}{3} \\)</td>\n",
       "      <td>3 out of 9 triangles are not shaded.</td>\n",
       "      <td>True_Misconception</td>\n",
       "      <td>Incomplete</td>\n",
       "    </tr>\n",
       "    <tr>\n",
       "      <th>123</th>\n",
       "      <td>123</td>\n",
       "      <td>31772</td>\n",
       "      <td>What fraction of the shape is not shaded? Give...</td>\n",
       "      <td>\\( \\frac{1}{3} \\)</td>\n",
       "      <td>3 out of nine triangles are not shaded</td>\n",
       "      <td>True_Misconception</td>\n",
       "      <td>Incomplete</td>\n",
       "    </tr>\n",
       "    <tr>\n",
       "      <th>265</th>\n",
       "      <td>265</td>\n",
       "      <td>31772</td>\n",
       "      <td>What fraction of the shape is not shaded? Give...</td>\n",
       "      <td>\\( \\frac{1}{3} \\)</td>\n",
       "      <td>3/9 of the shape isn't shaded</td>\n",
       "      <td>True_Misconception</td>\n",
       "      <td>Incomplete</td>\n",
       "    </tr>\n",
       "    <tr>\n",
       "      <th>518</th>\n",
       "      <td>518</td>\n",
       "      <td>31772</td>\n",
       "      <td>What fraction of the shape is not shaded? Give...</td>\n",
       "      <td>\\( \\frac{1}{3} \\)</td>\n",
       "      <td>Because there are 6 triangles and 3 are white....</td>\n",
       "      <td>True_Misconception</td>\n",
       "      <td>WNB</td>\n",
       "    </tr>\n",
       "    <tr>\n",
       "      <th>713</th>\n",
       "      <td>713</td>\n",
       "      <td>31772</td>\n",
       "      <td>What fraction of the shape is not shaded? Give...</td>\n",
       "      <td>\\( \\frac{1}{3} \\)</td>\n",
       "      <td>I know this because, I counted all of the blue...</td>\n",
       "      <td>True_Misconception</td>\n",
       "      <td>WNB</td>\n",
       "    </tr>\n",
       "    <tr>\n",
       "      <th>714</th>\n",
       "      <td>714</td>\n",
       "      <td>31772</td>\n",
       "      <td>What fraction of the shape is not shaded? Give...</td>\n",
       "      <td>\\( \\frac{1}{3} \\)</td>\n",
       "      <td>I know this because, I counted all of the blue...</td>\n",
       "      <td>True_Misconception</td>\n",
       "      <td>WNB</td>\n",
       "    </tr>\n",
       "    <tr>\n",
       "      <th>755</th>\n",
       "      <td>755</td>\n",
       "      <td>31772</td>\n",
       "      <td>What fraction of the shape is not shaded? Give...</td>\n",
       "      <td>\\( \\frac{1}{3} \\)</td>\n",
       "      <td>I think it is the answer because denominator i...</td>\n",
       "      <td>True_Misconception</td>\n",
       "      <td>WNB</td>\n",
       "    </tr>\n",
       "    <tr>\n",
       "      <th>860</th>\n",
       "      <td>860</td>\n",
       "      <td>31772</td>\n",
       "      <td>What fraction of the shape is not shaded? Give...</td>\n",
       "      <td>\\( \\frac{1}{3} \\)</td>\n",
       "      <td>I think this because if 3/6 would be simplifie...</td>\n",
       "      <td>True_Misconception</td>\n",
       "      <td>WNB</td>\n",
       "    </tr>\n",
       "    <tr>\n",
       "      <th>1060</th>\n",
       "      <td>1060</td>\n",
       "      <td>31772</td>\n",
       "      <td>What fraction of the shape is not shaded? Give...</td>\n",
       "      <td>\\( \\frac{1}{3} \\)</td>\n",
       "      <td>If there are nine triangles and six are shaded...</td>\n",
       "      <td>True_Misconception</td>\n",
       "      <td>Incomplete</td>\n",
       "    </tr>\n",
       "  </tbody>\n",
       "</table>\n",
       "</div>"
      ],
      "text/plain": [
       "      row_id  QuestionId                                       QuestionText  \\\n",
       "107      107       31772  What fraction of the shape is not shaded? Give...   \n",
       "120      120       31772  What fraction of the shape is not shaded? Give...   \n",
       "123      123       31772  What fraction of the shape is not shaded? Give...   \n",
       "265      265       31772  What fraction of the shape is not shaded? Give...   \n",
       "518      518       31772  What fraction of the shape is not shaded? Give...   \n",
       "713      713       31772  What fraction of the shape is not shaded? Give...   \n",
       "714      714       31772  What fraction of the shape is not shaded? Give...   \n",
       "755      755       31772  What fraction of the shape is not shaded? Give...   \n",
       "860      860       31772  What fraction of the shape is not shaded? Give...   \n",
       "1060    1060       31772  What fraction of the shape is not shaded? Give...   \n",
       "\n",
       "              MC_Answer                                 StudentExplanation  \\\n",
       "107   \\( \\frac{1}{3} \\)                    3 out of 9 parts aren't shaded.   \n",
       "120   \\( \\frac{1}{3} \\)               3 out of 9 triangles are not shaded.   \n",
       "123   \\( \\frac{1}{3} \\)             3 out of nine triangles are not shaded   \n",
       "265   \\( \\frac{1}{3} \\)                      3/9 of the shape isn't shaded   \n",
       "518   \\( \\frac{1}{3} \\)  Because there are 6 triangles and 3 are white....   \n",
       "713   \\( \\frac{1}{3} \\)  I know this because, I counted all of the blue...   \n",
       "714   \\( \\frac{1}{3} \\)  I know this because, I counted all of the blue...   \n",
       "755   \\( \\frac{1}{3} \\)  I think it is the answer because denominator i...   \n",
       "860   \\( \\frac{1}{3} \\)  I think this because if 3/6 would be simplifie...   \n",
       "1060  \\( \\frac{1}{3} \\)  If there are nine triangles and six are shaded...   \n",
       "\n",
       "                Category Misconception  \n",
       "107   True_Misconception    Incomplete  \n",
       "120   True_Misconception    Incomplete  \n",
       "123   True_Misconception    Incomplete  \n",
       "265   True_Misconception    Incomplete  \n",
       "518   True_Misconception           WNB  \n",
       "713   True_Misconception           WNB  \n",
       "714   True_Misconception           WNB  \n",
       "755   True_Misconception           WNB  \n",
       "860   True_Misconception           WNB  \n",
       "1060  True_Misconception    Incomplete  "
      ]
     },
     "execution_count": 9,
     "metadata": {},
     "output_type": "execute_result"
    }
   ],
   "source": [
    "train[train['Misconception'].notnull()].head(10)\n"
   ]
  },
  {
   "cell_type": "code",
   "execution_count": null,
   "id": "c1b293ca",
   "metadata": {},
   "outputs": [
    {
     "data": {
      "text/plain": [
       "Category\n",
       "False_Correct           0\n",
       "False_Misconception    35\n",
       "False_Neither           0\n",
       "True_Correct            0\n",
       "True_Misconception     26\n",
       "True_Neither            0\n",
       "Name: Misconception, dtype: int64"
      ]
     },
     "execution_count": 10,
     "metadata": {},
     "output_type": "execute_result"
    }
   ],
   "source": [
    "train.groupby('Category')['Misconception'].nunique()\n"
   ]
  },
  {
   "cell_type": "code",
   "execution_count": null,
   "id": "6f92585c",
   "metadata": {},
   "outputs": [
    {
     "name": "stderr",
     "output_type": "stream",
     "text": [
      "/var/folders/_m/hqmcmzq911bcxwqss422p6zr0000gn/T/ipykernel_23283/1742613629.py:1: FutureWarning: A value is trying to be set on a copy of a DataFrame or Series through chained assignment using an inplace method.\n",
      "The behavior will change in pandas 3.0. This inplace method will never work because the intermediate object on which we are setting values always behaves as a copy.\n",
      "\n",
      "For example, when doing 'df[col].method(value, inplace=True)', try using 'df.method({col: value}, inplace=True)' or df[col] = df[col].method(value) instead, to perform the operation inplace on the original object.\n",
      "\n",
      "\n",
      "  train['Misconception'].fillna(\"NA\", inplace=True)\n"
     ]
    }
   ],
   "source": [
    "train['Misconception'].fillna(\"NA\", inplace=True)\n"
   ]
  },
  {
   "cell_type": "code",
   "execution_count": null,
   "id": "cf536e25",
   "metadata": {},
   "outputs": [],
   "source": [
    "import re\n",
    "\n",
    "def clean_text(text):\n",
    "    text = text.lower()\n",
    "    text = re.sub(r'\\\\[a-zA-Z]+{.*?}', ' ', text)  # Remove LaTeX commands like \\frac{1}{3}\n",
    "    text = re.sub(r'[^a-z0-9\\s]', ' ', text)       # Keep only alphanumeric and whitespace\n",
    "    text = re.sub(r'\\s+', ' ', text).strip()       # Remove extra spaces\n",
    "    return text\n",
    "\n",
    "train['CleanedExplanation'] = train['StudentExplanation'].apply(clean_text)\n"
   ]
  },
  {
   "cell_type": "code",
   "execution_count": null,
   "id": "15cebf03",
   "metadata": {},
   "outputs": [],
   "source": [
    "train['Label'] = train['Category'] + \":\" + train['Misconception']\n"
   ]
  },
  {
   "cell_type": "code",
   "execution_count": null,
   "id": "2f3f9902",
   "metadata": {},
   "outputs": [
    {
     "name": "stdout",
     "output_type": "stream",
     "text": [
      "count    36696.000000\n",
      "mean        68.501472\n",
      "std         37.753399\n",
      "min          0.000000\n",
      "25%         42.000000\n",
      "50%         59.000000\n",
      "75%         85.000000\n",
      "max        571.000000\n",
      "Name: CleanedExplanation, dtype: float64\n"
     ]
    }
   ],
   "source": [
    "print(train['CleanedExplanation'].apply(len).describe())\n"
   ]
  },
  {
   "cell_type": "code",
   "execution_count": null,
   "id": "5ba85edf",
   "metadata": {},
   "outputs": [
    {
     "name": "stdout",
     "output_type": "stream",
     "text": [
      "Category\n",
      "True_Correct           0.403368\n",
      "False_Misconception    0.257712\n",
      "False_Neither          0.178276\n",
      "True_Neither           0.143476\n",
      "True_Misconception     0.010982\n",
      "False_Correct          0.006186\n",
      "Name: proportion, dtype: float64\n",
      "Misconception\n",
      "NA                                        0.731306\n",
      "Incomplete                                0.039623\n",
      "Additive                                  0.025316\n",
      "Duplication                               0.019185\n",
      "Subtraction                               0.016896\n",
      "Positive                                  0.015424\n",
      "Wrong_term                                0.015206\n",
      "Irrelevant                                0.013544\n",
      "Wrong_fraction                            0.011391\n",
      "Inversion                                 0.011282\n",
      "Mult                                      0.009620\n",
      "Denominator-only_change                   0.009156\n",
      "Whole_numbers_larger                      0.008966\n",
      "Adding_across                             0.008366\n",
      "WNB                                       0.008148\n",
      "Tacking                                   0.007903\n",
      "Unknowable                                0.007685\n",
      "Wrong_Fraction                            0.007440\n",
      "SwapDividend                              0.005614\n",
      "Scale                                     0.004878\n",
      "Not_variable                              0.004197\n",
      "Firstterm                                 0.002916\n",
      "Adding_terms                              0.002643\n",
      "Multiplying_by_4                          0.002616\n",
      "FlipChange                                0.002126\n",
      "Division                                  0.001717\n",
      "Definition                                0.001472\n",
      "Interior                                  0.001363\n",
      "Longer_is_bigger                          0.000654\n",
      "Ignores_zeroes                            0.000627\n",
      "Base_rate                                 0.000627\n",
      "Shorter_is_bigger                         0.000627\n",
      "Inverse_operation                         0.000572\n",
      "Certainty                                 0.000491\n",
      "Incorrect_equivalent_fraction_addition    0.000245\n",
      "Wrong_Operation                           0.000164\n",
      "Name: proportion, dtype: float64\n"
     ]
    }
   ],
   "source": [
    "print(train['Category'].value_counts(normalize=True))\n",
    "print(train['Misconception'].value_counts(normalize=True))\n"
   ]
  },
  {
   "cell_type": "code",
   "execution_count": null,
   "id": "7bbe0e31",
   "metadata": {},
   "outputs": [
    {
     "name": "stdout",
     "output_type": "stream",
     "text": [
      "Category\n",
      "False_Neither          14802\n",
      "True_Correct           14802\n",
      "False_Misconception    14802\n",
      "True_Misconception     14802\n",
      "True_Neither           14802\n",
      "False_Correct          14802\n",
      "Name: count, dtype: int64\n"
     ]
    }
   ],
   "source": [
    "from sklearn.utils import resample\n",
    "\n",
    "categories = train['Category'].unique()\n",
    "max_size = train['Category'].value_counts().max()\n",
    "\n",
    "balanced_data = []\n",
    "\n",
    "for category in categories:\n",
    "    cat_df = train[train['Category'] == category]\n",
    "    \n",
    "    if len(cat_df) < max_size:\n",
    "        # Upsample\n",
    "        sampled_df = resample(cat_df, replace=True, n_samples=max_size, random_state=42)\n",
    "    else:\n",
    "        # Downsample\n",
    "        sampled_df = resample(cat_df, replace=False, n_samples=max_size, random_state=42)\n",
    "    \n",
    "    balanced_data.append(sampled_df)\n",
    "\n",
    "train = pd.concat(balanced_data).sample(frac=1, random_state=42).reset_index(drop=True)\n",
    "\n",
    "print(train['Category'].value_counts())"
   ]
  },
  {
   "cell_type": "code",
   "execution_count": null,
   "id": "c4a285e7",
   "metadata": {},
   "outputs": [],
   "source": [
    "# Filter misconception rows\n",
    "misconception_rows = train[train['Category'].isin(['True_Misconception', 'False_Misconception'])]\n",
    "\n",
    "# Get unique misconceptions and max count\n",
    "miscon_classes = misconception_rows['Misconception'].unique()\n",
    "max_count = misconception_rows['Misconception'].value_counts().max()\n",
    "\n",
    "# Resample each misconception class to max count\n",
    "from sklearn.utils import resample\n",
    "balanced_misconceptions = []\n",
    "\n",
    "for miscon in miscon_classes:\n",
    "    subset = misconception_rows[misconception_rows['Misconception'] == miscon]\n",
    "    if len(subset) < max_count:\n",
    "        upsampled = resample(subset, replace=True, n_samples=max_count, random_state=42)\n",
    "        balanced_misconceptions.append(upsampled)\n",
    "    else:\n",
    "        balanced_misconceptions.append(subset)\n",
    "\n",
    "train = pd.concat(balanced_misconceptions).sample(frac=1, random_state=42).reset_index(drop=True)\n"
   ]
  },
  {
   "cell_type": "code",
   "execution_count": null,
   "id": "6b25154a",
   "metadata": {},
   "outputs": [
    {
     "name": "stdout",
     "output_type": "stream",
     "text": [
      "Misconception\n",
      "Longer_is_bigger                          0.028571\n",
      "Positive                                  0.028571\n",
      "Scale                                     0.028571\n",
      "SwapDividend                              0.028571\n",
      "Irrelevant                                0.028571\n",
      "Incorrect_equivalent_fraction_addition    0.028571\n",
      "Inversion                                 0.028571\n",
      "Denominator-only_change                   0.028571\n",
      "Additive                                  0.028571\n",
      "Adding_terms                              0.028571\n",
      "Shorter_is_bigger                         0.028571\n",
      "Multiplying_by_4                          0.028571\n",
      "WNB                                       0.028571\n",
      "Wrong_Operation                           0.028571\n",
      "Tacking                                   0.028571\n",
      "Division                                  0.028571\n",
      "Duplication                               0.028571\n",
      "Base_rate                                 0.028571\n",
      "Whole_numbers_larger                      0.028571\n",
      "Unknowable                                0.028571\n",
      "Incomplete                                0.028571\n",
      "Definition                                0.028571\n",
      "Wrong_term                                0.028571\n",
      "Wrong_fraction                            0.028571\n",
      "Wrong_Fraction                            0.028571\n",
      "Adding_across                             0.028571\n",
      "Subtraction                               0.028571\n",
      "Inverse_operation                         0.028571\n",
      "Not_variable                              0.028571\n",
      "Interior                                  0.028571\n",
      "Firstterm                                 0.028571\n",
      "Certainty                                 0.028571\n",
      "FlipChange                                0.028571\n",
      "Mult                                      0.028571\n",
      "Ignores_zeroes                            0.028571\n",
      "Name: proportion, dtype: float64\n"
     ]
    }
   ],
   "source": [
    "print(train['Misconception'].value_counts(normalize=True))\n"
   ]
  },
  {
   "cell_type": "code",
   "execution_count": null,
   "id": "7640aceb",
   "metadata": {},
   "outputs": [
    {
     "data": {
      "text/html": [
       "<div>\n",
       "<style scoped>\n",
       "    .dataframe tbody tr th:only-of-type {\n",
       "        vertical-align: middle;\n",
       "    }\n",
       "\n",
       "    .dataframe tbody tr th {\n",
       "        vertical-align: top;\n",
       "    }\n",
       "\n",
       "    .dataframe thead th {\n",
       "        text-align: right;\n",
       "    }\n",
       "</style>\n",
       "<table border=\"1\" class=\"dataframe\">\n",
       "  <thead>\n",
       "    <tr style=\"text-align: right;\">\n",
       "      <th></th>\n",
       "      <th>row_id</th>\n",
       "      <th>QuestionId</th>\n",
       "      <th>QuestionText</th>\n",
       "      <th>MC_Answer</th>\n",
       "      <th>StudentExplanation</th>\n",
       "      <th>Category</th>\n",
       "      <th>Misconception</th>\n",
       "      <th>CleanedExplanation</th>\n",
       "      <th>Label</th>\n",
       "    </tr>\n",
       "  </thead>\n",
       "  <tbody>\n",
       "    <tr>\n",
       "      <th>0</th>\n",
       "      <td>21212</td>\n",
       "      <td>32835</td>\n",
       "      <td>Which number is the greatest?</td>\n",
       "      <td>\\( 6.2 \\)</td>\n",
       "      <td>d because it has a 6 the same as a but it also...</td>\n",
       "      <td>True_Misconception</td>\n",
       "      <td>Longer_is_bigger</td>\n",
       "      <td>d because it has a 6 the same as a but it also...</td>\n",
       "      <td>True_Misconception:Longer_is_bigger</td>\n",
       "    </tr>\n",
       "    <tr>\n",
       "      <th>1</th>\n",
       "      <td>19941</td>\n",
       "      <td>32835</td>\n",
       "      <td>Which number is the greatest?</td>\n",
       "      <td>\\( 6 \\)</td>\n",
       "      <td>because the number 6 is a whole number.</td>\n",
       "      <td>False_Misconception</td>\n",
       "      <td>Whole_numbers_larger</td>\n",
       "      <td>because the number 6 is a whole number</td>\n",
       "      <td>False_Misconception:Whole_numbers_larger</td>\n",
       "    </tr>\n",
       "    <tr>\n",
       "      <th>2</th>\n",
       "      <td>3533</td>\n",
       "      <td>31772</td>\n",
       "      <td>What fraction of the shape is not shaded? Give...</td>\n",
       "      <td>\\( \\frac{3}{9} \\)</td>\n",
       "      <td>I think this because the shaded triangles are ...</td>\n",
       "      <td>False_Misconception</td>\n",
       "      <td>Incomplete</td>\n",
       "      <td>i think this because the shaded triangles are ...</td>\n",
       "      <td>False_Misconception:Incomplete</td>\n",
       "    </tr>\n",
       "    <tr>\n",
       "      <th>3</th>\n",
       "      <td>107</td>\n",
       "      <td>31772</td>\n",
       "      <td>What fraction of the shape is not shaded? Give...</td>\n",
       "      <td>\\( \\frac{1}{3} \\)</td>\n",
       "      <td>3 out of 9 parts aren't shaded.</td>\n",
       "      <td>True_Misconception</td>\n",
       "      <td>Incomplete</td>\n",
       "      <td>3 out of 9 parts aren t shaded</td>\n",
       "      <td>True_Misconception:Incomplete</td>\n",
       "    </tr>\n",
       "    <tr>\n",
       "      <th>4</th>\n",
       "      <td>28628</td>\n",
       "      <td>76870</td>\n",
       "      <td>This is part of a regular polygon. How many si...</td>\n",
       "      <td>\\( 10 \\)</td>\n",
       "      <td>I think you have to double it because a polygo...</td>\n",
       "      <td>True_Misconception</td>\n",
       "      <td>Definition</td>\n",
       "      <td>i think you have to double it because a polygo...</td>\n",
       "      <td>True_Misconception:Definition</td>\n",
       "    </tr>\n",
       "  </tbody>\n",
       "</table>\n",
       "</div>"
      ],
      "text/plain": [
       "   row_id  QuestionId                                       QuestionText  \\\n",
       "0   21212       32835                      Which number is the greatest?   \n",
       "1   19941       32835                      Which number is the greatest?   \n",
       "2    3533       31772  What fraction of the shape is not shaded? Give...   \n",
       "3     107       31772  What fraction of the shape is not shaded? Give...   \n",
       "4   28628       76870  This is part of a regular polygon. How many si...   \n",
       "\n",
       "           MC_Answer                                 StudentExplanation  \\\n",
       "0          \\( 6.2 \\)  d because it has a 6 the same as a but it also...   \n",
       "1            \\( 6 \\)            because the number 6 is a whole number.   \n",
       "2  \\( \\frac{3}{9} \\)  I think this because the shaded triangles are ...   \n",
       "3  \\( \\frac{1}{3} \\)                    3 out of 9 parts aren't shaded.   \n",
       "4           \\( 10 \\)  I think you have to double it because a polygo...   \n",
       "\n",
       "              Category         Misconception  \\\n",
       "0   True_Misconception      Longer_is_bigger   \n",
       "1  False_Misconception  Whole_numbers_larger   \n",
       "2  False_Misconception            Incomplete   \n",
       "3   True_Misconception            Incomplete   \n",
       "4   True_Misconception            Definition   \n",
       "\n",
       "                                  CleanedExplanation  \\\n",
       "0  d because it has a 6 the same as a but it also...   \n",
       "1             because the number 6 is a whole number   \n",
       "2  i think this because the shaded triangles are ...   \n",
       "3                     3 out of 9 parts aren t shaded   \n",
       "4  i think you have to double it because a polygo...   \n",
       "\n",
       "                                      Label  \n",
       "0       True_Misconception:Longer_is_bigger  \n",
       "1  False_Misconception:Whole_numbers_larger  \n",
       "2            False_Misconception:Incomplete  \n",
       "3             True_Misconception:Incomplete  \n",
       "4             True_Misconception:Definition  "
      ]
     },
     "execution_count": 19,
     "metadata": {},
     "output_type": "execute_result"
    }
   ],
   "source": [
    "train.head()"
   ]
  },
  {
   "cell_type": "code",
   "execution_count": null,
   "id": "3daa7cce",
   "metadata": {},
   "outputs": [],
   "source": [
    "import re\n",
    "\n",
    "def clean_text(text):\n",
    "    \"\"\"\n",
    "    Clean the input text by:\n",
    "    - Lowercasing\n",
    "    - Removing LaTeX commands like \\frac{...}\n",
    "    - Removing non-alphanumeric characters except spaces\n",
    "    - Stripping extra whitespace\n",
    "    \"\"\"\n",
    "    if not isinstance(text, str):\n",
    "        return \"\"\n",
    "    text = text.lower()\n",
    "    # Remove LaTeX commands, e.g. \\frac{1}{2}\n",
    "    text = re.sub(r'\\\\[a-zA-Z]+{.*?}', ' ', text)\n",
    "    # Remove other non-alphanumeric characters except spaces\n",
    "    text = re.sub(r'[^a-z0-9\\s]', ' ', text)\n",
    "    # Remove multiple spaces\n",
    "    text = re.sub(r'\\s+', ' ', text).strip()\n",
    "    return text\n",
    "\n",
    "train['CleanedQuestion'] = train['QuestionText'].apply(clean_text)\n",
    "train['CleanedMCAnswer'] = train['MC_Answer'].apply(clean_text)"
   ]
  },
  {
   "cell_type": "code",
   "execution_count": null,
   "id": "2daae222",
   "metadata": {},
   "outputs": [],
   "source": [
    "train['CombinedInput'] = (\n",
    "    train['CleanedQuestion'] + ' [SEP] ' +\n",
    "    train['CleanedMCAnswer'] + ' [SEP] ' +\n",
    "    train['CleanedExplanation']\n",
    ")"
   ]
  },
  {
   "cell_type": "code",
   "execution_count": null,
   "id": "3a3cf1e6",
   "metadata": {},
   "outputs": [
    {
     "name": "stdout",
     "output_type": "stream",
     "text": [
      "{'False_Misconception': np.int64(0), 'True_Misconception': np.int64(1)}\n"
     ]
    }
   ],
   "source": [
    "from sklearn.preprocessing import LabelEncoder\n",
    "\n",
    "le_category = LabelEncoder()\n",
    "train['CategoryEncoded'] = le_category.fit_transform(train['Category'])\n",
    "print(dict(zip(le_category.classes_, le_category.transform(le_category.classes_))))\n"
   ]
  },
  {
   "cell_type": "code",
   "execution_count": null,
   "id": "6aa47929",
   "metadata": {},
   "outputs": [
    {
     "data": {
      "text/plain": [
       "['le_category.joblib']"
      ]
     },
     "execution_count": 23,
     "metadata": {},
     "output_type": "execute_result"
    }
   ],
   "source": [
    "import joblib\n",
    "# Save the label encoder for future use\n",
    "joblib.dump(le_category, 'le_category.joblib')"
   ]
  },
  {
   "cell_type": "code",
   "execution_count": null,
   "id": "b86ebd02",
   "metadata": {},
   "outputs": [
    {
     "name": "stdout",
     "output_type": "stream",
     "text": [
      "2.5.1\n",
      "True\n"
     ]
    }
   ],
   "source": [
    "import torch\n",
    "print(torch.__version__)\n",
    "print(torch.backends.mps.is_available())  # Check if MPS is available\n"
   ]
  },
  {
   "cell_type": "code",
   "execution_count": null,
   "id": "add8b929",
   "metadata": {},
   "outputs": [
    {
     "name": "stdout",
     "output_type": "stream",
     "text": [
      "4.45.2\n"
     ]
    }
   ],
   "source": [
    "import transformers\n",
    "print(transformers.__version__)\n"
   ]
  },
  {
   "cell_type": "code",
   "execution_count": null,
   "id": "ef84f174",
   "metadata": {},
   "outputs": [],
   "source": [
    "from transformers import AutoTokenizer, AutoModelForMaskedLM\n",
    "from torch.utils.data import Dataset\n",
    "\n",
    "# Load tokenizer locally\n",
    "tokenizer = AutoTokenizer.from_pretrained(\"../bert-base-uncased\", local_files_only=True)\n",
    "\n",
    "# Example: Load model too (if needed)\n",
    "model = AutoModelForMaskedLM.from_pretrained(\"../bert-base-uncased\", local_files_only=True)\n",
    "\n",
    "\n",
    "class MAPDataset(Dataset):\n",
    "    def __init__(self, texts, labels, tokenizer, max_len=256):\n",
    "        self.texts = texts\n",
    "        self.labels = labels\n",
    "        self.tokenizer = tokenizer\n",
    "        self.max_len = max_len\n",
    "    \n",
    "    def __len__(self):\n",
    "        return len(self.texts)\n",
    "    \n",
    "    def __getitem__(self, idx):\n",
    "        text = self.texts[idx]\n",
    "        label = self.labels[idx]\n",
    "        \n",
    "        encoding = self.tokenizer(\n",
    "            text,\n",
    "            max_length=self.max_len,\n",
    "            padding='max_length',\n",
    "            truncation=True,\n",
    "            return_tensors='pt'\n",
    "        )\n",
    "        \n",
    "        return {\n",
    "            'input_ids': encoding['input_ids'].squeeze(0),\n",
    "            'attention_mask': encoding['attention_mask'].squeeze(0),\n",
    "            'labels': torch.tensor(label, dtype=torch.long)\n",
    "        }\n",
    "\n",
    "# Create PyTorch dataset\n",
    "dataset = MAPDataset(\n",
    "    texts=train['CombinedInput'].tolist(),\n",
    "    labels=train['CategoryEncoded'].tolist(),\n",
    "    tokenizer=tokenizer\n",
    ")\n"
   ]
  },
  {
   "cell_type": "code",
   "execution_count": null,
   "id": "5a00cb12",
   "metadata": {},
   "outputs": [],
   "source": [
    "from sklearn.model_selection import train_test_split\n",
    "\n",
    "train_texts, val_texts, train_labels, val_labels = train_test_split(\n",
    "    train['CombinedInput'], train['CategoryEncoded'],\n",
    "    test_size=0.1, stratify=train['CategoryEncoded'], random_state=42\n",
    ")\n",
    "\n",
    "train_dataset = MAPDataset(train_texts.tolist(), train_labels.tolist(), tokenizer)\n",
    "val_dataset = MAPDataset(val_texts.tolist(), val_labels.tolist(), tokenizer)\n"
   ]
  },
  {
   "cell_type": "code",
   "execution_count": null,
   "id": "1292dddf",
   "metadata": {},
   "outputs": [
    {
     "name": "stdout",
     "output_type": "stream",
     "text": [
      "False\n",
      "0\n"
     ]
    }
   ],
   "source": [
    "import torch\n",
    "print(torch.cuda.is_available())  # True if CUDA-enabled GPU is available\n",
    "print(torch.cuda.device_count())  # Number of GPUs\n"
   ]
  },
  {
   "cell_type": "code",
   "execution_count": null,
   "id": "2c42fb37",
   "metadata": {},
   "outputs": [
    {
     "name": "stdout",
     "output_type": "stream",
     "text": [
      "True\n"
     ]
    }
   ],
   "source": [
    "device = torch.device(\"mps\")  # for Apple Silicon GPU\n",
    "# For code using Trainer, it should auto-detect if available.\n",
    "print(torch.backends.mps.is_available())\n"
   ]
  },
  {
   "cell_type": "code",
   "execution_count": null,
   "id": "bc0c862a",
   "metadata": {},
   "outputs": [
    {
     "data": {
      "text/plain": [
       "(213430, 26680)"
      ]
     },
     "execution_count": 31,
     "metadata": {},
     "output_type": "execute_result"
    }
   ],
   "source": [
    "len_train = len(train)\n",
    "batch_size = 16  # or whatever you choose\n",
    "epochs = 2       # or whatever you choose\n",
    "\n",
    "import math\n",
    "steps = math.ceil(len_train / batch_size) * epochs\n",
    "len_train, steps\n"
   ]
  },
  {
   "cell_type": "code",
   "execution_count": 34,
   "id": "27c9c561",
   "metadata": {},
   "outputs": [
    {
     "name": "stdout",
     "output_type": "stream",
     "text": [
      "Using device: mps\n"
     ]
    },
    {
     "name": "stderr",
     "output_type": "stream",
     "text": [
      "Some weights of BertForSequenceClassification were not initialized from the model checkpoint at ../bert-base-uncased and are newly initialized: ['classifier.bias', 'classifier.weight']\n",
      "You should probably TRAIN this model on a down-stream task to be able to use it for predictions and inference.\n",
      "/opt/anaconda3/envs/Kaggle_MAP/lib/python3.12/site-packages/transformers/training_args.py:1545: FutureWarning: `evaluation_strategy` is deprecated and will be removed in version 4.46 of 🤗 Transformers. Use `eval_strategy` instead\n",
      "  warnings.warn(\n"
     ]
    },
    {
     "name": "stdout",
     "output_type": "stream",
     "text": [
      "Training samples: 192087\n",
      "Steps per epoch: 12006\n",
      "Total training steps: 24012\n"
     ]
    },
    {
     "data": {
      "application/vnd.jupyter.widget-view+json": {
       "model_id": "269f4c8a30e84c60a094bee4f4d54c3c",
       "version_major": 2,
       "version_minor": 0
      },
      "text/plain": [
       "  0%|          | 0/24012 [00:00<?, ?it/s]"
      ]
     },
     "metadata": {},
     "output_type": "display_data"
    },
    {
     "ename": "KeyboardInterrupt",
     "evalue": "",
     "output_type": "error",
     "traceback": [
      "\u001b[31m---------------------------------------------------------------------------\u001b[39m",
      "\u001b[31mKeyboardInterrupt\u001b[39m                         Traceback (most recent call last)",
      "\u001b[36mCell\u001b[39m\u001b[36m \u001b[39m\u001b[32mIn[34]\u001b[39m\u001b[32m, line 84\u001b[39m\n\u001b[32m     75\u001b[39m \u001b[38;5;66;03m# ===== Trainer =====\u001b[39;00m\n\u001b[32m     76\u001b[39m trainer = Trainer(\n\u001b[32m     77\u001b[39m     model=model,\n\u001b[32m     78\u001b[39m     args=training_args,\n\u001b[32m   (...)\u001b[39m\u001b[32m     81\u001b[39m     compute_metrics=compute_metrics\n\u001b[32m     82\u001b[39m )\n\u001b[32m---> \u001b[39m\u001b[32m84\u001b[39m trainer.train()\n",
      "\u001b[36mFile \u001b[39m\u001b[32m/opt/anaconda3/envs/Kaggle_MAP/lib/python3.12/site-packages/transformers/trainer.py:2052\u001b[39m, in \u001b[36mTrainer.train\u001b[39m\u001b[34m(self, resume_from_checkpoint, trial, ignore_keys_for_eval, **kwargs)\u001b[39m\n\u001b[32m   2050\u001b[39m         hf_hub_utils.enable_progress_bars()\n\u001b[32m   2051\u001b[39m \u001b[38;5;28;01melse\u001b[39;00m:\n\u001b[32m-> \u001b[39m\u001b[32m2052\u001b[39m     \u001b[38;5;28;01mreturn\u001b[39;00m inner_training_loop(\n\u001b[32m   2053\u001b[39m         args=args,\n\u001b[32m   2054\u001b[39m         resume_from_checkpoint=resume_from_checkpoint,\n\u001b[32m   2055\u001b[39m         trial=trial,\n\u001b[32m   2056\u001b[39m         ignore_keys_for_eval=ignore_keys_for_eval,\n\u001b[32m   2057\u001b[39m     )\n",
      "\u001b[36mFile \u001b[39m\u001b[32m/opt/anaconda3/envs/Kaggle_MAP/lib/python3.12/site-packages/transformers/trainer.py:2393\u001b[39m, in \u001b[36mTrainer._inner_training_loop\u001b[39m\u001b[34m(self, batch_size, args, resume_from_checkpoint, trial, ignore_keys_for_eval)\u001b[39m\n\u001b[32m   2387\u001b[39m \u001b[38;5;28;01mwith\u001b[39;00m \u001b[38;5;28mself\u001b[39m.accelerator.accumulate(model):\n\u001b[32m   2388\u001b[39m     tr_loss_step = \u001b[38;5;28mself\u001b[39m.training_step(model, inputs)\n\u001b[32m   2390\u001b[39m \u001b[38;5;28;01mif\u001b[39;00m (\n\u001b[32m   2391\u001b[39m     args.logging_nan_inf_filter\n\u001b[32m   2392\u001b[39m     \u001b[38;5;129;01mand\u001b[39;00m \u001b[38;5;129;01mnot\u001b[39;00m is_torch_xla_available()\n\u001b[32m-> \u001b[39m\u001b[32m2393\u001b[39m     \u001b[38;5;129;01mand\u001b[39;00m (torch.isnan(tr_loss_step) \u001b[38;5;129;01mor\u001b[39;00m torch.isinf(tr_loss_step))\n\u001b[32m   2394\u001b[39m ):\n\u001b[32m   2395\u001b[39m     \u001b[38;5;66;03m# if loss is nan or inf simply add the average of previous logged losses\u001b[39;00m\n\u001b[32m   2396\u001b[39m     tr_loss += tr_loss / (\u001b[32m1\u001b[39m + \u001b[38;5;28mself\u001b[39m.state.global_step - \u001b[38;5;28mself\u001b[39m._globalstep_last_logged)\n\u001b[32m   2397\u001b[39m \u001b[38;5;28;01melse\u001b[39;00m:\n",
      "\u001b[31mKeyboardInterrupt\u001b[39m: "
     ]
    }
   ],
   "source": [
    "import os\n",
    "import math\n",
    "import torch\n",
    "from transformers import AutoModelForSequenceClassification, AutoTokenizer, Trainer, TrainingArguments\n",
    "from sklearn.metrics import accuracy_score, precision_recall_fscore_support\n",
    "\n",
    "# ===== Model path (local folder with downloaded model/tokenizer files) =====\n",
    "# Folder must contain:\n",
    "# config.json, pytorch_model.bin, vocab.txt, tokenizer.json, tokenizer_config.json\n",
    "model_path = \"../bert-base-uncased\"\n",
    "\n",
    "# ===== Device detection =====\n",
    "if torch.cuda.is_available():\n",
    "    device = torch.device(\"cuda\")\n",
    "elif torch.backends.mps.is_available():\n",
    "    os.environ[\"PYTORCH_ENABLE_MPS_FALLBACK\"] = \"1\"\n",
    "    device = torch.device(\"mps\")\n",
    "else:\n",
    "    device = torch.device(\"cpu\")\n",
    "\n",
    "print(f\"Using device: {device}\")\n",
    "\n",
    "num_labels = len(le_category.classes_)\n",
    "\n",
    "# ===== Load model & tokenizer =====\n",
    "model = AutoModelForSequenceClassification.from_pretrained(\n",
    "    model_path,\n",
    "    num_labels=num_labels\n",
    ").to(device)\n",
    "\n",
    "tokenizer = AutoTokenizer.from_pretrained(model_path)\n",
    "\n",
    "# ===== Training parameters =====\n",
    "epochs = 2\n",
    "batch_size = 16\n",
    "eval_batch_size = 16\n",
    "\n",
    "training_args = TrainingArguments(\n",
    "    output_dir='./results',\n",
    "    num_train_epochs=epochs,\n",
    "    per_device_train_batch_size=batch_size,\n",
    "    per_device_eval_batch_size=eval_batch_size,\n",
    "    evaluation_strategy='epoch',\n",
    "    save_strategy='epoch',\n",
    "    save_total_limit=2,\n",
    "    logging_dir='./logs',\n",
    "    logging_steps=50,\n",
    "    load_best_model_at_end=True,\n",
    "    metric_for_best_model='accuracy',\n",
    "    push_to_hub=False,\n",
    "    fp16=torch.cuda.is_available()\n",
    ")\n",
    "\n",
    "# ===== Step calculation =====\n",
    "len_train = len(train_dataset)\n",
    "steps_per_epoch = math.ceil(len_train / batch_size)\n",
    "total_steps = steps_per_epoch * epochs\n",
    "print(f\"Training samples: {len_train}\")\n",
    "print(f\"Steps per epoch: {steps_per_epoch}\")\n",
    "print(f\"Total training steps: {total_steps}\")\n",
    "\n",
    "# ===== Metrics =====\n",
    "def compute_metrics(pred):\n",
    "    labels = pred.label_ids\n",
    "    preds = pred.predictions.argmax(-1)\n",
    "    precision, recall, f1, _ = precision_recall_fscore_support(labels, preds, average='weighted')\n",
    "    acc = accuracy_score(labels, preds)\n",
    "    return {\n",
    "        'accuracy': acc,\n",
    "        'f1': f1,\n",
    "        'precision': precision,\n",
    "        'recall': recall\n",
    "    }\n",
    "\n",
    "# ===== Trainer =====\n",
    "trainer = Trainer(\n",
    "    model=model,\n",
    "    args=training_args,\n",
    "    train_dataset=train_dataset,\n",
    "    eval_dataset=val_dataset,\n",
    "    compute_metrics=compute_metrics\n",
    ")\n",
    "\n",
    "trainer.train()\n"
   ]
  },
  {
   "cell_type": "code",
   "execution_count": null,
   "id": "279fcf17",
   "metadata": {},
   "outputs": [],
   "source": []
  },
  {
   "cell_type": "code",
   "execution_count": null,
   "id": "fe0a8c43",
   "metadata": {},
   "outputs": [],
   "source": []
  }
 ],
 "metadata": {
  "kernelspec": {
   "display_name": "Python 3 (ipykernel)",
   "language": "python",
   "name": "python3"
  }
 },
 "nbformat": 4,
 "nbformat_minor": 5
}
